{
 "cells": [
  {
   "cell_type": "code",
   "execution_count": 25,
   "id": "26b6f467-4494-4c04-9239-3b5541be4f63",
   "metadata": {},
   "outputs": [
    {
     "data": {
      "text/plain": [
       "'/home/jupyter/FloWell'"
      ]
     },
     "execution_count": 25,
     "metadata": {},
     "output_type": "execute_result"
    }
   ],
   "source": [
    "import os\n",
    "\n",
    "os.getcwd()\n",
    "\n",
    "os.chdir(r\"/home/jupyter/FloWell/\")\n",
    "os.getcwd()\n"
   ]
  },
  {
   "cell_type": "code",
   "execution_count": 26,
   "id": "126db757-0dc9-464a-978b-473b7892642c",
   "metadata": {},
   "outputs": [],
   "source": [
    "# !pip install openpyxl"
   ]
  },
  {
   "cell_type": "code",
   "execution_count": 27,
   "id": "aa1e7c1f-d30a-44c1-a76e-c830b4bfbe0f",
   "metadata": {},
   "outputs": [
    {
     "data": {
      "text/html": [
       "<div>\n",
       "<style scoped>\n",
       "    .dataframe tbody tr th:only-of-type {\n",
       "        vertical-align: middle;\n",
       "    }\n",
       "\n",
       "    .dataframe tbody tr th {\n",
       "        vertical-align: top;\n",
       "    }\n",
       "\n",
       "    .dataframe thead th {\n",
       "        text-align: right;\n",
       "    }\n",
       "</style>\n",
       "<table border=\"1\" class=\"dataframe\">\n",
       "  <thead>\n",
       "    <tr style=\"text-align: right;\">\n",
       "      <th></th>\n",
       "      <th>Date</th>\n",
       "      <th>Medical Professional</th>\n",
       "      <th>Clinician Type</th>\n",
       "      <th>Notes Entry</th>\n",
       "      <th>Day</th>\n",
       "    </tr>\n",
       "  </thead>\n",
       "  <tbody>\n",
       "    <tr>\n",
       "      <th>0</th>\n",
       "      <td>Day 1</td>\n",
       "      <td>A&amp;E Ward Nurse</td>\n",
       "      <td>Nurse</td>\n",
       "      <td>The patient presented to the A&amp;E department wi...</td>\n",
       "      <td>Day 1</td>\n",
       "    </tr>\n",
       "    <tr>\n",
       "      <th>1</th>\n",
       "      <td>Day 1</td>\n",
       "      <td>Doctor</td>\n",
       "      <td>Doctor</td>\n",
       "      <td>The patient was clerked in and assessed. Exami...</td>\n",
       "      <td>Day 1</td>\n",
       "    </tr>\n",
       "    <tr>\n",
       "      <th>2</th>\n",
       "      <td>Day 1</td>\n",
       "      <td>Dr. Smith, Orthopaedic Surgeon</td>\n",
       "      <td>Orthopaedic Surgeon</td>\n",
       "      <td>Initial Assessment: Mr. [Patient Name] present...</td>\n",
       "      <td>Day 1</td>\n",
       "    </tr>\n",
       "    <tr>\n",
       "      <th>3</th>\n",
       "      <td>Day 1</td>\n",
       "      <td>Dr. Jones, Anesthesiologist</td>\n",
       "      <td>Anesthesiologist</td>\n",
       "      <td>Initial Assessment: Mr. [Patient Name] is a pl...</td>\n",
       "      <td>Day 1</td>\n",
       "    </tr>\n",
       "    <tr>\n",
       "      <th>4</th>\n",
       "      <td>Day 2</td>\n",
       "      <td>Surgeon</td>\n",
       "      <td>Surgeon</td>\n",
       "      <td>Operative Note\\nProcedure: Open Reduction and ...</td>\n",
       "      <td>Day 2</td>\n",
       "    </tr>\n",
       "  </tbody>\n",
       "</table>\n",
       "</div>"
      ],
      "text/plain": [
       "    Date            Medical Professional       Clinician Type  \\\n",
       "0  Day 1                  A&E Ward Nurse                Nurse   \n",
       "1  Day 1                          Doctor               Doctor   \n",
       "2  Day 1  Dr. Smith, Orthopaedic Surgeon  Orthopaedic Surgeon   \n",
       "3  Day 1     Dr. Jones, Anesthesiologist     Anesthesiologist   \n",
       "4  Day 2                         Surgeon              Surgeon   \n",
       "\n",
       "                                         Notes Entry    Day  \n",
       "0  The patient presented to the A&E department wi...  Day 1  \n",
       "1  The patient was clerked in and assessed. Exami...  Day 1  \n",
       "2  Initial Assessment: Mr. [Patient Name] present...  Day 1  \n",
       "3  Initial Assessment: Mr. [Patient Name] is a pl...  Day 1  \n",
       "4  Operative Note\\nProcedure: Open Reduction and ...  Day 2  "
      ]
     },
     "execution_count": 27,
     "metadata": {},
     "output_type": "execute_result"
    }
   ],
   "source": [
    "import pandas as pd \n",
    "\n",
    "# df = pd.read_excel(\"data/patient_notes.xlsx\")\n",
    "df = pd.read_csv(\"data/patient notes with clinician.csv\")\n",
    "df[\"Day\"] = df[\"Date\"]\n",
    "# # df = df[[\"start\", \"Medical Professional\", \"Clinician Type\", \"Notes Entry\", \"Day\"]]\n",
    "df.head()"
   ]
  },
  {
   "cell_type": "code",
   "execution_count": 29,
   "id": "94e92453-c2f3-49f9-bd80-c3300275530c",
   "metadata": {},
   "outputs": [
    {
     "ename": "AttributeError",
     "evalue": "module 'pandas' has no attribute 'to_starttime'",
     "output_type": "error",
     "traceback": [
      "\u001b[0;31m---------------------------------------------------------------------------\u001b[0m",
      "\u001b[0;31mAttributeError\u001b[0m                            Traceback (most recent call last)",
      "Cell \u001b[0;32mIn[29], line 8\u001b[0m\n\u001b[1;32m      5\u001b[0m   \u001b[38;5;28;01mreturn\u001b[39;00m pd\u001b[38;5;241m.\u001b[39mto_starttime(\u001b[38;5;124m'\u001b[39m\u001b[38;5;124m2024-05-\u001b[39m\u001b[38;5;124m'\u001b[39m \u001b[38;5;241m+\u001b[39m \u001b[38;5;28mstr\u001b[39m(day))\n\u001b[1;32m      7\u001b[0m \u001b[38;5;66;03m# Apply the function to the 'start' column\u001b[39;00m\n\u001b[0;32m----> 8\u001b[0m df[\u001b[38;5;124m\"\u001b[39m\u001b[38;5;124mstart\u001b[39m\u001b[38;5;124m\"\u001b[39m] \u001b[38;5;241m=\u001b[39m \u001b[43mdf\u001b[49m\u001b[43m[\u001b[49m\u001b[38;5;124;43m'\u001b[39;49m\u001b[38;5;124;43mDate\u001b[39;49m\u001b[38;5;124;43m'\u001b[39;49m\u001b[43m]\u001b[49m\u001b[38;5;241;43m.\u001b[39;49m\u001b[43mapply\u001b[49m\u001b[43m(\u001b[49m\u001b[43mconvert_to_starttime\u001b[49m\u001b[43m)\u001b[49m\n",
      "File \u001b[0;32m/opt/conda/lib/python3.10/site-packages/pandas/core/series.py:4924\u001b[0m, in \u001b[0;36mSeries.apply\u001b[0;34m(self, func, convert_dtype, args, by_row, **kwargs)\u001b[0m\n\u001b[1;32m   4789\u001b[0m \u001b[38;5;28;01mdef\u001b[39;00m \u001b[38;5;21mapply\u001b[39m(\n\u001b[1;32m   4790\u001b[0m     \u001b[38;5;28mself\u001b[39m,\n\u001b[1;32m   4791\u001b[0m     func: AggFuncType,\n\u001b[0;32m   (...)\u001b[0m\n\u001b[1;32m   4796\u001b[0m     \u001b[38;5;241m*\u001b[39m\u001b[38;5;241m*\u001b[39mkwargs,\n\u001b[1;32m   4797\u001b[0m ) \u001b[38;5;241m-\u001b[39m\u001b[38;5;241m>\u001b[39m DataFrame \u001b[38;5;241m|\u001b[39m Series:\n\u001b[1;32m   4798\u001b[0m \u001b[38;5;250m    \u001b[39m\u001b[38;5;124;03m\"\"\"\u001b[39;00m\n\u001b[1;32m   4799\u001b[0m \u001b[38;5;124;03m    Invoke function on values of Series.\u001b[39;00m\n\u001b[1;32m   4800\u001b[0m \n\u001b[0;32m   (...)\u001b[0m\n\u001b[1;32m   4915\u001b[0m \u001b[38;5;124;03m    dtype: float64\u001b[39;00m\n\u001b[1;32m   4916\u001b[0m \u001b[38;5;124;03m    \"\"\"\u001b[39;00m\n\u001b[1;32m   4917\u001b[0m     \u001b[38;5;28;01mreturn\u001b[39;00m \u001b[43mSeriesApply\u001b[49m\u001b[43m(\u001b[49m\n\u001b[1;32m   4918\u001b[0m \u001b[43m        \u001b[49m\u001b[38;5;28;43mself\u001b[39;49m\u001b[43m,\u001b[49m\n\u001b[1;32m   4919\u001b[0m \u001b[43m        \u001b[49m\u001b[43mfunc\u001b[49m\u001b[43m,\u001b[49m\n\u001b[1;32m   4920\u001b[0m \u001b[43m        \u001b[49m\u001b[43mconvert_dtype\u001b[49m\u001b[38;5;241;43m=\u001b[39;49m\u001b[43mconvert_dtype\u001b[49m\u001b[43m,\u001b[49m\n\u001b[1;32m   4921\u001b[0m \u001b[43m        \u001b[49m\u001b[43mby_row\u001b[49m\u001b[38;5;241;43m=\u001b[39;49m\u001b[43mby_row\u001b[49m\u001b[43m,\u001b[49m\n\u001b[1;32m   4922\u001b[0m \u001b[43m        \u001b[49m\u001b[43margs\u001b[49m\u001b[38;5;241;43m=\u001b[39;49m\u001b[43margs\u001b[49m\u001b[43m,\u001b[49m\n\u001b[1;32m   4923\u001b[0m \u001b[43m        \u001b[49m\u001b[43mkwargs\u001b[49m\u001b[38;5;241;43m=\u001b[39;49m\u001b[43mkwargs\u001b[49m\u001b[43m,\u001b[49m\n\u001b[0;32m-> 4924\u001b[0m \u001b[43m    \u001b[49m\u001b[43m)\u001b[49m\u001b[38;5;241;43m.\u001b[39;49m\u001b[43mapply\u001b[49m\u001b[43m(\u001b[49m\u001b[43m)\u001b[49m\n",
      "File \u001b[0;32m/opt/conda/lib/python3.10/site-packages/pandas/core/apply.py:1427\u001b[0m, in \u001b[0;36mSeriesApply.apply\u001b[0;34m(self)\u001b[0m\n\u001b[1;32m   1424\u001b[0m     \u001b[38;5;28;01mreturn\u001b[39;00m \u001b[38;5;28mself\u001b[39m\u001b[38;5;241m.\u001b[39mapply_compat()\n\u001b[1;32m   1426\u001b[0m \u001b[38;5;66;03m# self.func is Callable\u001b[39;00m\n\u001b[0;32m-> 1427\u001b[0m \u001b[38;5;28;01mreturn\u001b[39;00m \u001b[38;5;28;43mself\u001b[39;49m\u001b[38;5;241;43m.\u001b[39;49m\u001b[43mapply_standard\u001b[49m\u001b[43m(\u001b[49m\u001b[43m)\u001b[49m\n",
      "File \u001b[0;32m/opt/conda/lib/python3.10/site-packages/pandas/core/apply.py:1507\u001b[0m, in \u001b[0;36mSeriesApply.apply_standard\u001b[0;34m(self)\u001b[0m\n\u001b[1;32m   1501\u001b[0m \u001b[38;5;66;03m# row-wise access\u001b[39;00m\n\u001b[1;32m   1502\u001b[0m \u001b[38;5;66;03m# apply doesn't have a `na_action` keyword and for backward compat reasons\u001b[39;00m\n\u001b[1;32m   1503\u001b[0m \u001b[38;5;66;03m# we need to give `na_action=\"ignore\"` for categorical data.\u001b[39;00m\n\u001b[1;32m   1504\u001b[0m \u001b[38;5;66;03m# TODO: remove the `na_action=\"ignore\"` when that default has been changed in\u001b[39;00m\n\u001b[1;32m   1505\u001b[0m \u001b[38;5;66;03m#  Categorical (GH51645).\u001b[39;00m\n\u001b[1;32m   1506\u001b[0m action \u001b[38;5;241m=\u001b[39m \u001b[38;5;124m\"\u001b[39m\u001b[38;5;124mignore\u001b[39m\u001b[38;5;124m\"\u001b[39m \u001b[38;5;28;01mif\u001b[39;00m \u001b[38;5;28misinstance\u001b[39m(obj\u001b[38;5;241m.\u001b[39mdtype, CategoricalDtype) \u001b[38;5;28;01melse\u001b[39;00m \u001b[38;5;28;01mNone\u001b[39;00m\n\u001b[0;32m-> 1507\u001b[0m mapped \u001b[38;5;241m=\u001b[39m \u001b[43mobj\u001b[49m\u001b[38;5;241;43m.\u001b[39;49m\u001b[43m_map_values\u001b[49m\u001b[43m(\u001b[49m\n\u001b[1;32m   1508\u001b[0m \u001b[43m    \u001b[49m\u001b[43mmapper\u001b[49m\u001b[38;5;241;43m=\u001b[39;49m\u001b[43mcurried\u001b[49m\u001b[43m,\u001b[49m\u001b[43m \u001b[49m\u001b[43mna_action\u001b[49m\u001b[38;5;241;43m=\u001b[39;49m\u001b[43maction\u001b[49m\u001b[43m,\u001b[49m\u001b[43m \u001b[49m\u001b[43mconvert\u001b[49m\u001b[38;5;241;43m=\u001b[39;49m\u001b[38;5;28;43mself\u001b[39;49m\u001b[38;5;241;43m.\u001b[39;49m\u001b[43mconvert_dtype\u001b[49m\n\u001b[1;32m   1509\u001b[0m \u001b[43m\u001b[49m\u001b[43m)\u001b[49m\n\u001b[1;32m   1511\u001b[0m \u001b[38;5;28;01mif\u001b[39;00m \u001b[38;5;28mlen\u001b[39m(mapped) \u001b[38;5;129;01mand\u001b[39;00m \u001b[38;5;28misinstance\u001b[39m(mapped[\u001b[38;5;241m0\u001b[39m], ABCSeries):\n\u001b[1;32m   1512\u001b[0m     \u001b[38;5;66;03m# GH#43986 Need to do list(mapped) in order to get treated as nested\u001b[39;00m\n\u001b[1;32m   1513\u001b[0m     \u001b[38;5;66;03m#  See also GH#25959 regarding EA support\u001b[39;00m\n\u001b[1;32m   1514\u001b[0m     \u001b[38;5;28;01mreturn\u001b[39;00m obj\u001b[38;5;241m.\u001b[39m_constructor_expanddim(\u001b[38;5;28mlist\u001b[39m(mapped), index\u001b[38;5;241m=\u001b[39mobj\u001b[38;5;241m.\u001b[39mindex)\n",
      "File \u001b[0;32m/opt/conda/lib/python3.10/site-packages/pandas/core/base.py:921\u001b[0m, in \u001b[0;36mIndexOpsMixin._map_values\u001b[0;34m(self, mapper, na_action, convert)\u001b[0m\n\u001b[1;32m    918\u001b[0m \u001b[38;5;28;01mif\u001b[39;00m \u001b[38;5;28misinstance\u001b[39m(arr, ExtensionArray):\n\u001b[1;32m    919\u001b[0m     \u001b[38;5;28;01mreturn\u001b[39;00m arr\u001b[38;5;241m.\u001b[39mmap(mapper, na_action\u001b[38;5;241m=\u001b[39mna_action)\n\u001b[0;32m--> 921\u001b[0m \u001b[38;5;28;01mreturn\u001b[39;00m \u001b[43malgorithms\u001b[49m\u001b[38;5;241;43m.\u001b[39;49m\u001b[43mmap_array\u001b[49m\u001b[43m(\u001b[49m\u001b[43marr\u001b[49m\u001b[43m,\u001b[49m\u001b[43m \u001b[49m\u001b[43mmapper\u001b[49m\u001b[43m,\u001b[49m\u001b[43m \u001b[49m\u001b[43mna_action\u001b[49m\u001b[38;5;241;43m=\u001b[39;49m\u001b[43mna_action\u001b[49m\u001b[43m,\u001b[49m\u001b[43m \u001b[49m\u001b[43mconvert\u001b[49m\u001b[38;5;241;43m=\u001b[39;49m\u001b[43mconvert\u001b[49m\u001b[43m)\u001b[49m\n",
      "File \u001b[0;32m/opt/conda/lib/python3.10/site-packages/pandas/core/algorithms.py:1743\u001b[0m, in \u001b[0;36mmap_array\u001b[0;34m(arr, mapper, na_action, convert)\u001b[0m\n\u001b[1;32m   1741\u001b[0m values \u001b[38;5;241m=\u001b[39m arr\u001b[38;5;241m.\u001b[39mastype(\u001b[38;5;28mobject\u001b[39m, copy\u001b[38;5;241m=\u001b[39m\u001b[38;5;28;01mFalse\u001b[39;00m)\n\u001b[1;32m   1742\u001b[0m \u001b[38;5;28;01mif\u001b[39;00m na_action \u001b[38;5;129;01mis\u001b[39;00m \u001b[38;5;28;01mNone\u001b[39;00m:\n\u001b[0;32m-> 1743\u001b[0m     \u001b[38;5;28;01mreturn\u001b[39;00m \u001b[43mlib\u001b[49m\u001b[38;5;241;43m.\u001b[39;49m\u001b[43mmap_infer\u001b[49m\u001b[43m(\u001b[49m\u001b[43mvalues\u001b[49m\u001b[43m,\u001b[49m\u001b[43m \u001b[49m\u001b[43mmapper\u001b[49m\u001b[43m,\u001b[49m\u001b[43m \u001b[49m\u001b[43mconvert\u001b[49m\u001b[38;5;241;43m=\u001b[39;49m\u001b[43mconvert\u001b[49m\u001b[43m)\u001b[49m\n\u001b[1;32m   1744\u001b[0m \u001b[38;5;28;01melse\u001b[39;00m:\n\u001b[1;32m   1745\u001b[0m     \u001b[38;5;28;01mreturn\u001b[39;00m lib\u001b[38;5;241m.\u001b[39mmap_infer_mask(\n\u001b[1;32m   1746\u001b[0m         values, mapper, mask\u001b[38;5;241m=\u001b[39misna(values)\u001b[38;5;241m.\u001b[39mview(np\u001b[38;5;241m.\u001b[39muint8), convert\u001b[38;5;241m=\u001b[39mconvert\n\u001b[1;32m   1747\u001b[0m     )\n",
      "File \u001b[0;32mlib.pyx:2972\u001b[0m, in \u001b[0;36mpandas._libs.lib.map_infer\u001b[0;34m()\u001b[0m\n",
      "Cell \u001b[0;32mIn[29], line 5\u001b[0m, in \u001b[0;36mconvert_to_starttime\u001b[0;34m(start_str)\u001b[0m\n\u001b[1;32m      3\u001b[0m \u001b[38;5;28;01mdef\u001b[39;00m \u001b[38;5;21mconvert_to_starttime\u001b[39m(start_str):\n\u001b[1;32m      4\u001b[0m   day \u001b[38;5;241m=\u001b[39m \u001b[38;5;28mint\u001b[39m(start_str\u001b[38;5;241m.\u001b[39msplit()[\u001b[38;5;241m1\u001b[39m])\n\u001b[0;32m----> 5\u001b[0m   \u001b[38;5;28;01mreturn\u001b[39;00m \u001b[43mpd\u001b[49m\u001b[38;5;241;43m.\u001b[39;49m\u001b[43mto_starttime\u001b[49m(\u001b[38;5;124m'\u001b[39m\u001b[38;5;124m2024-05-\u001b[39m\u001b[38;5;124m'\u001b[39m \u001b[38;5;241m+\u001b[39m \u001b[38;5;28mstr\u001b[39m(day))\n",
      "\u001b[0;31mAttributeError\u001b[0m: module 'pandas' has no attribute 'to_starttime'"
     ]
    }
   ],
   "source": [
    "# pd.to_starttime(df['start'].str.replace('Day ', ''), format='%d', )\n",
    "# Define a function to convert the string to starttime\n",
    "def convert_to_starttime(start_str):\n",
    "  day = int(start_str.split()[1])\n",
    "  return pd.to_starttime('2024-05-' + str(day))\n",
    "\n",
    "# Apply the function to the 'start' column\n",
    "df[\"start\"] = df['Date'].apply(convert_to_starttime)"
   ]
  },
  {
   "cell_type": "code",
   "execution_count": 11,
   "id": "dbc30879-7dee-42b5-8bc3-2731a2eae8e3",
   "metadata": {},
   "outputs": [
    {
     "data": {
      "text/html": [
       "<div>\n",
       "<style scoped>\n",
       "    .dataframe tbody tr th:only-of-type {\n",
       "        vertical-align: middle;\n",
       "    }\n",
       "\n",
       "    .dataframe tbody tr th {\n",
       "        vertical-align: top;\n",
       "    }\n",
       "\n",
       "    .dataframe thead th {\n",
       "        text-align: right;\n",
       "    }\n",
       "</style>\n",
       "<table border=\"1\" class=\"dataframe\">\n",
       "  <thead>\n",
       "    <tr style=\"text-align: right;\">\n",
       "      <th></th>\n",
       "      <th>Date</th>\n",
       "      <th>Medical Professional</th>\n",
       "      <th>Clinician Type</th>\n",
       "      <th>Notes Entry</th>\n",
       "    </tr>\n",
       "  </thead>\n",
       "  <tbody>\n",
       "    <tr>\n",
       "      <th>0</th>\n",
       "      <td>Day 1</td>\n",
       "      <td>A&amp;E Ward Nurse</td>\n",
       "      <td>Nurse</td>\n",
       "      <td>The patient presented to the A&amp;E department wi...</td>\n",
       "    </tr>\n",
       "    <tr>\n",
       "      <th>1</th>\n",
       "      <td>Day 1</td>\n",
       "      <td>Doctor</td>\n",
       "      <td>Doctor</td>\n",
       "      <td>The patient was clerked in and assessed. Exami...</td>\n",
       "    </tr>\n",
       "    <tr>\n",
       "      <th>2</th>\n",
       "      <td>Day 1</td>\n",
       "      <td>Dr. Smith, Orthopaedic Surgeon</td>\n",
       "      <td>Orthopaedic Surgeon</td>\n",
       "      <td>Initial Assessment: Mr. [Patient Name] present...</td>\n",
       "    </tr>\n",
       "    <tr>\n",
       "      <th>3</th>\n",
       "      <td>Day 1</td>\n",
       "      <td>Dr. Jones, Anesthesiologist</td>\n",
       "      <td>Anesthesiologist</td>\n",
       "      <td>Initial Assessment: Mr. [Patient Name] is a pl...</td>\n",
       "    </tr>\n",
       "    <tr>\n",
       "      <th>4</th>\n",
       "      <td>Day 2</td>\n",
       "      <td>Surgeon</td>\n",
       "      <td>Surgeon</td>\n",
       "      <td>Operative Note\\nProcedure: Open Reduction and ...</td>\n",
       "    </tr>\n",
       "  </tbody>\n",
       "</table>\n",
       "</div>"
      ],
      "text/plain": [
       "    Date            Medical Professional       Clinician Type  \\\n",
       "0  Day 1                  A&E Ward Nurse                Nurse   \n",
       "1  Day 1                          Doctor               Doctor   \n",
       "2  Day 1  Dr. Smith, Orthopaedic Surgeon  Orthopaedic Surgeon   \n",
       "3  Day 1     Dr. Jones, Anesthesiologist     Anesthesiologist   \n",
       "4  Day 2                         Surgeon              Surgeon   \n",
       "\n",
       "                                         Notes Entry  \n",
       "0  The patient presented to the A&E department wi...  \n",
       "1  The patient was clerked in and assessed. Exami...  \n",
       "2  Initial Assessment: Mr. [Patient Name] present...  \n",
       "3  Initial Assessment: Mr. [Patient Name] is a pl...  \n",
       "4  Operative Note\\nProcedure: Open Reduction and ...  "
      ]
     },
     "execution_count": 11,
     "metadata": {},
     "output_type": "execute_result"
    }
   ],
   "source": [
    "df.head()"
   ]
  },
  {
   "cell_type": "code",
   "execution_count": 85,
   "id": "39193c54-ba8f-4e46-96c5-d05d35b06971",
   "metadata": {},
   "outputs": [],
   "source": [
    "df[\"NHS Number\"] = 2233445671\n",
    "df.head()"
   ]
  },
  {
   "cell_type": "code",
   "execution_count": 33,
   "id": "4b892414-bf2d-437b-a25c-f324b04c8fac",
   "metadata": {},
   "outputs": [
    {
     "data": {
      "text/plain": [
       "''"
      ]
     },
     "execution_count": 33,
     "metadata": {},
     "output_type": "execute_result"
    }
   ],
   "source": [
    "note = pd.read_csv(\"data/updated_patient_notes.csv\")\n",
    "\n",
    "def get_all_notes_text(df, nhs_id):\n",
    "    note = ''\n",
    "    r = df[df[\"NHS Number\"] == nhs_id]\n",
    "    for i in r[[\"Notes Entry\"]].values:\n",
    "        print(note + i[0])\n",
    "    return note\n",
    "\n",
    "get_all_notes_text(note, 2233445671)\n"
   ]
  },
  {
   "cell_type": "code",
   "execution_count": 90,
   "id": "eadf8839-c624-4c61-95bc-cfe4b13b5f38",
   "metadata": {},
   "outputs": [
    {
     "data": {
      "text/html": [
       "<div>\n",
       "<style scoped>\n",
       "    .dataframe tbody tr th:only-of-type {\n",
       "        vertical-align: middle;\n",
       "    }\n",
       "\n",
       "    .dataframe tbody tr th {\n",
       "        vertical-align: top;\n",
       "    }\n",
       "\n",
       "    .dataframe thead th {\n",
       "        text-align: right;\n",
       "    }\n",
       "</style>\n",
       "<table border=\"1\" class=\"dataframe\">\n",
       "  <thead>\n",
       "    <tr style=\"text-align: right;\">\n",
       "      <th></th>\n",
       "      <th>Date</th>\n",
       "      <th>Notes Entry</th>\n",
       "    </tr>\n",
       "  </thead>\n",
       "  <tbody>\n",
       "    <tr>\n",
       "      <th>0</th>\n",
       "      <td>2024-05-01</td>\n",
       "      <td>The patient presented to the A&amp;E department wi...</td>\n",
       "    </tr>\n",
       "    <tr>\n",
       "      <th>1</th>\n",
       "      <td>2024-05-01</td>\n",
       "      <td>The patient was clerked in and assessed. Exami...</td>\n",
       "    </tr>\n",
       "    <tr>\n",
       "      <th>2</th>\n",
       "      <td>2024-05-01</td>\n",
       "      <td>Initial Assessment: Mr. [Patient Name] present...</td>\n",
       "    </tr>\n",
       "    <tr>\n",
       "      <th>3</th>\n",
       "      <td>2024-05-01</td>\n",
       "      <td>Initial Assessment: Mr. [Patient Name] is a pl...</td>\n",
       "    </tr>\n",
       "    <tr>\n",
       "      <th>4</th>\n",
       "      <td>2024-05-02</td>\n",
       "      <td>Operative Note\\nProcedure: Open Reduction and ...</td>\n",
       "    </tr>\n",
       "    <tr>\n",
       "      <th>...</th>\n",
       "      <td>...</td>\n",
       "      <td>...</td>\n",
       "    </tr>\n",
       "    <tr>\n",
       "      <th>68</th>\n",
       "      <td>2024-05-17</td>\n",
       "      <td>Patient was reviewed by the medical team and d...</td>\n",
       "    </tr>\n",
       "    <tr>\n",
       "      <th>69</th>\n",
       "      <td>2024-05-17</td>\n",
       "      <td>Patient seen for final physiotherapy session t...</td>\n",
       "    </tr>\n",
       "    <tr>\n",
       "      <th>70</th>\n",
       "      <td>2024-05-17</td>\n",
       "      <td>The patient's discharge plan has been discusse...</td>\n",
       "    </tr>\n",
       "    <tr>\n",
       "      <th>71</th>\n",
       "      <td>2024-05-17</td>\n",
       "      <td>Patient was discharged home with a package of ...</td>\n",
       "    </tr>\n",
       "    <tr>\n",
       "      <th>72</th>\n",
       "      <td>2024-05-17</td>\n",
       "      <td>Patient collected for Homefirst service and tr...</td>\n",
       "    </tr>\n",
       "  </tbody>\n",
       "</table>\n",
       "<p>73 rows × 2 columns</p>\n",
       "</div>"
      ],
      "text/plain": [
       "         Date                                        Notes Entry\n",
       "0  2024-05-01  The patient presented to the A&E department wi...\n",
       "1  2024-05-01  The patient was clerked in and assessed. Exami...\n",
       "2  2024-05-01  Initial Assessment: Mr. [Patient Name] present...\n",
       "3  2024-05-01  Initial Assessment: Mr. [Patient Name] is a pl...\n",
       "4  2024-05-02  Operative Note\\nProcedure: Open Reduction and ...\n",
       "..        ...                                                ...\n",
       "68 2024-05-17  Patient was reviewed by the medical team and d...\n",
       "69 2024-05-17  Patient seen for final physiotherapy session t...\n",
       "70 2024-05-17  The patient's discharge plan has been discusse...\n",
       "71 2024-05-17  Patient was discharged home with a package of ...\n",
       "72 2024-05-17  Patient collected for Homefirst service and tr...\n",
       "\n",
       "[73 rows x 2 columns]"
      ]
     },
     "execution_count": 90,
     "metadata": {},
     "output_type": "execute_result"
    }
   ],
   "source": [
    "df[[\"start\", \"Notes Entry\"]]"
   ]
  },
  {
   "cell_type": "code",
   "execution_count": 86,
   "id": "5ff696b9-5507-438b-ae43-b3a0a6ac6353",
   "metadata": {},
   "outputs": [],
   "source": [
    "df.to_csv(\"upstartd_patient_notes.csv\", index=False)"
   ]
  },
  {
   "cell_type": "code",
   "execution_count": 60,
   "id": "8bd97bab-09b4-46a7-aad4-4a888f90d252",
   "metadata": {},
   "outputs": [],
   "source": [
    "df = pd.read_csv(\"data/updated_patient_notes.csv\")\n",
    "df.drop([\"Day\"], inplace=True, axis=1)\n"
   ]
  },
  {
   "cell_type": "code",
   "execution_count": 62,
   "id": "3bff4d8e-7e45-4ea9-9b3c-1a48e8b11e41",
   "metadata": {},
   "outputs": [],
   "source": [
    "df.to_csv(\"data/updated_patient_notes.csv\", index=False)"
   ]
  },
  {
   "cell_type": "code",
   "execution_count": 37,
   "id": "e20359b7-df5e-4a24-b52e-0243aa8c1f96",
   "metadata": {},
   "outputs": [
    {
     "name": "stdout",
     "output_type": "stream",
     "text": [
      "     Patient Name Gender Patient DOB   NHS Number Hospital Number  \\\n",
      "0   Jack Williams      M  16/04/2008   1234567890         CN12345   \n",
      "1   Sarah Johnson      F  15/03/1988   2233445671         CN23456   \n",
      "2  Dakota Fanning      F  25/10/1992   2435374682         CN34567   \n",
      "3       Sam Smith      M  11/03/2003  22343274235         CN45678   \n",
      "\n",
      "              Ward/ Bed number         Specialty    Consultant  \n",
      "0       Rose Ward, Bay 2 Bed 5        Geriatrics     Dr. Mufti  \n",
      "1      Lily Ward, Bay 5, Bed 2  Gastroenterology     Dr. Lehri  \n",
      "2  Hyacinth Ward, Bay 3, Bed 4        Cardiology     Dr. Brown  \n",
      "3  Daffodil Ward, Bay 1, Bed 4             Renal  Dr. Muhammed  \n"
     ]
    }
   ],
   "source": [
    "data = {\n",
    "    'Patient Name': ['Jack Williams', 'Sarah Johnson', 'Dakota Fanning', 'Sam Smith'],\n",
    "    'Gender': ['M', 'F', 'F', 'M'],\n",
    "    'Patient DOB': ['16/04/2008', '15/03/1988', '25/10/1992', '11/03/2003'],\n",
    "    'NHS Number': ['1234567890', '2233445671', '2435374682', '22343274235'],\n",
    "    'Hospital Number': ['CN12345', 'CN23456', 'CN34567', 'CN45678'],\n",
    "    'Ward/ Bed number': ['Rose Ward, Bay 2 Bed 5', 'Lily Ward, Bay 5, Bed 2', 'Hyacinth Ward, Bay 3, Bed 4', 'Daffodil Ward, Bay 1, Bed 4'],\n",
    "    'Specialty': ['Geriatrics', 'Gastroenterology', 'Cardiology', 'Renal'],\n",
    "}\n",
    "\n",
    "patients = pd.DataFrame(data)\n",
    "print(patients)\n",
    "patients.to_csv(\"patients.csv\", index=False)"
   ]
  },
  {
   "cell_type": "code",
   "execution_count": 110,
   "id": "707a8a88-7b02-4b7c-b95f-cf193ac2ae99",
   "metadata": {},
   "outputs": [],
   "source": [
    "resp = {\n",
    "  \"summary\": \"The patient, a 78-year-old male with a history of hypertension, presented to the A&E department with a fractured right hip. After a comprehensive assessment, he underwent surgery for open reduction and internal fixation. He experienced significant intraoperative blood loss but tolerated the procedure well. Post-operatively, he was transferred to the HDU for overnight monitoring due to his pre-existing comorbidities and blood loss. He subsequently developed pneumonia and required respiratory support, but gradually improved with treatment. After a successful recovery, he was discharged home with a package of care and homefirst service.\",\n",
    "  \"timeline\": [\n",
    "    {\n",
    "      \"start\": \"2024-05-01\",\n",
    "      \"key_event\": \"Fractured Right Hip\",\n",
    "      \"description\": \"Patient presented to A&E with fractured right hip following a fall.\"\n",
    "    },\n",
    "    {\n",
    "      \"start\": \"2024-05-01\",\n",
    "      \"key_event\": \"Surgery Planned\",\n",
    "      \"description\": \"Urgent surgery planned to address the fracture.\"\n",
    "    },\n",
    "    {\n",
    "      \"start\": \"2024-05-02\",\n",
    "      \"key_event\": \"Open Reduction\",\n",
    "      \"description\": \"Patient underwent open reduction and internal fixation surgery.\"\n",
    "    },\n",
    "    {\n",
    "      \"start\": \"2024-05-02\",\n",
    "      \"key_event\": \"HDU Transfer\",\n",
    "      \"description\": \"Transferred to HDU due to blood loss and comorbidities.\"\n",
    "    },\n",
    "    {\n",
    "      \"start\": \"2024-05-03\",\n",
    "      \"key_event\": \"Orthopaedic Ward\",\n",
    "      \"description\": \"Transferred to the orthopaedic ward for further management.\"\n",
    "    },\n",
    "    {\n",
    "      \"start\": \"2024-05-04\",\n",
    "      \"key_event\": \"Physiotherapy Start\",\n",
    "      \"description\": \"Patient began physiotherapy sessions.\"\n",
    "    },\n",
    "    {\n",
    "      \"start\": \"2024-05-04\",\n",
    "      \"key_event\": \"Sepsis Suspected\",\n",
    "      \"description\": \"Patient deteriorated with suspected sepsis.\"\n",
    "    },\n",
    "    {\n",
    "      \"start\": \"2024-05-05\",\n",
    "      \"key_event\": \"Pneumonia Confirmed\",\n",
    "      \"description\": \"Patient diagnosed with pneumonia.\"\n",
    "    },\n",
    "    {\n",
    "      \"start\": \"2024-05-06\",\n",
    "      \"key_event\": \"Condition Improves\",\n",
    "      \"description\": \"Patient shows subtle signs of improvement.\"\n",
    "    },\n",
    "    {\n",
    "      \"start\": \"2024-05-07\",\n",
    "      \"key_event\": \"Continued Recovery\",\n",
    "      \"description\": \"Patient continues to make steady progress.\"\n",
    "    },\n",
    "    {\n",
    "      \"start\": \"2024-05-08\",\n",
    "      \"key_event\": \"Discharge Planning\",\n",
    "      \"description\": \"Discharge planning begins, patient prefers home.\"\n",
    "    },\n",
    "    {\n",
    "      \"start\": \"2024-05-09\",\n",
    "      \"key_event\": \"Discharge Agreed\",\n",
    "      \"description\": \"Discharge plan agreed upon with patient and family.\"\n",
    "    },\n",
    "    {\n",
    "      \"start\": \"2024-05-10\",\n",
    "      \"key_event\": \"Catheter Removed\",\n",
    "      \"description\": \"Urinary catheter removed successfully.\"\n",
    "    },\n",
    "    {\n",
    "      \"start\": \"2024-05-11\",\n",
    "      \"key_event\": \"Care Package Agreed\",\n",
    "      \"description\": \"Care package agreed upon for home discharge.\"\n",
    "    },\n",
    "    {\n",
    "      \"start\": \"2024-05-12\",\n",
    "      \"key_event\": \"Continued Progress\",\n",
    "      \"description\": \"Patient continues to make good progress.\"\n",
    "    },\n",
    "    {\n",
    "      \"start\": \"2024-05-13\",\n",
    "      \"key_event\": \"Excellent Progress\",\n",
    "      \"description\": \"Patient continues to make excellent progress.\"\n",
    "    },\n",
    "    {\n",
    "      \"start\": \"2024-05-14\",\n",
    "      \"key_event\": \"Discharge Approved\",\n",
    "      \"description\": \"Patient medically fit for discharge.\"\n",
    "    },\n",
    "    {\n",
    "      \"start\": \"2024-05-17\",\n",
    "      \"key_event\": \"Discharged Home\",\n",
    "      \"description\": \"Patient discharged home with care package.\"\n",
    "    }\n",
    "  ]\n",
    "}"
   ]
  },
  {
   "cell_type": "code",
   "execution_count": 111,
   "id": "d34a47d8-9694-4158-91b5-41295b427685",
   "metadata": {},
   "outputs": [
    {
     "ename": "TypeError",
     "evalue": "list indices must be integers or slices, not str",
     "output_type": "error",
     "traceback": [
      "\u001b[0;31m---------------------------------------------------------------------------\u001b[0m",
      "\u001b[0;31mTypeError\u001b[0m                                 Traceback (most recent call last)",
      "Cell \u001b[0;32mIn[111], line 1\u001b[0m\n\u001b[0;32m----> 1\u001b[0m d \u001b[38;5;241m=\u001b[39m pd\u001b[38;5;241m.\u001b[39mDataFrame(\u001b[43mresp\u001b[49m\u001b[43m[\u001b[49m\u001b[38;5;124;43m\"\u001b[39;49m\u001b[38;5;124;43mtimeline\u001b[39;49m\u001b[38;5;124;43m\"\u001b[39;49m\u001b[43m]\u001b[49m)\n\u001b[1;32m      2\u001b[0m d[\u001b[38;5;124m\"\u001b[39m\u001b[38;5;124mend\u001b[39m\u001b[38;5;124m\"\u001b[39m] \u001b[38;5;241m=\u001b[39m d[\u001b[38;5;124m\"\u001b[39m\u001b[38;5;124mstart\u001b[39m\u001b[38;5;124m\"\u001b[39m]\n",
      "\u001b[0;31mTypeError\u001b[0m: list indices must be integers or slices, not str"
     ]
    }
   ],
   "source": [
    "d = pd.DataFrame(resp[\"timeline\"])\n",
    "d[\"end\"] = d[\"start\"]"
   ]
  },
  {
   "cell_type": "code",
   "execution_count": 109,
   "id": "f24e4e0a-471a-411c-b630-2453b32f24b2",
   "metadata": {},
   "outputs": [
    {
     "data": {
      "text/plain": [
       "'{\"start\":{\"0\":\"2024-05-01\",\"1\":\"2024-05-01\",\"2\":\"2024-05-02\",\"3\":\"2024-05-02\",\"4\":\"2024-05-03\",\"5\":\"2024-05-04\",\"6\":\"2024-05-04\",\"7\":\"2024-05-05\",\"8\":\"2024-05-06\",\"9\":\"2024-05-07\",\"10\":\"2024-05-08\",\"11\":\"2024-05-09\",\"12\":\"2024-05-10\",\"13\":\"2024-05-11\",\"14\":\"2024-05-12\",\"15\":\"2024-05-13\",\"16\":\"2024-05-14\",\"17\":\"2024-05-17\"},\"key_event\":{\"0\":\"Fractured Right Hip\",\"1\":\"Surgery Planned\",\"2\":\"Open Reduction\",\"3\":\"HDU Transfer\",\"4\":\"Orthopaedic Ward\",\"5\":\"Physiotherapy Start\",\"6\":\"Sepsis Suspected\",\"7\":\"Pneumonia Confirmed\",\"8\":\"Condition Improves\",\"9\":\"Continued Recovery\",\"10\":\"Discharge Planning\",\"11\":\"Discharge Agreed\",\"12\":\"Catheter Removed\",\"13\":\"Care Package Agreed\",\"14\":\"Continued Progress\",\"15\":\"Excellent Progress\",\"16\":\"Discharge Approved\",\"17\":\"Discharged Home\"},\"description\":{\"0\":\"Patient presented to A&E with fractured right hip following a fall.\",\"1\":\"Urgent surgery planned to address the fracture.\",\"2\":\"Patient underwent open reduction and internal fixation surgery.\",\"3\":\"Transferred to HDU due to blood loss and comorbidities.\",\"4\":\"Transferred to the orthopaedic ward for further management.\",\"5\":\"Patient began physiotherapy sessions.\",\"6\":\"Patient deteriorated with suspected sepsis.\",\"7\":\"Patient diagnosed with pneumonia.\",\"8\":\"Patient shows subtle signs of improvement.\",\"9\":\"Patient continues to make steady progress.\",\"10\":\"Discharge planning begins, patient prefers home.\",\"11\":\"Discharge plan agreed upon with patient and family.\",\"12\":\"Urinary catheter removed successfully.\",\"13\":\"Care package agreed upon for home discharge.\",\"14\":\"Patient continues to make good progress.\",\"15\":\"Patient continues to make excellent progress.\",\"16\":\"Patient medically fit for discharge.\",\"17\":\"Patient discharged home with care package.\"},\"end\":{\"0\":\"2024-05-01\",\"1\":\"2024-05-01\",\"2\":\"2024-05-02\",\"3\":\"2024-05-02\",\"4\":\"2024-05-03\",\"5\":\"2024-05-04\",\"6\":\"2024-05-04\",\"7\":\"2024-05-05\",\"8\":\"2024-05-06\",\"9\":\"2024-05-07\",\"10\":\"2024-05-08\",\"11\":\"2024-05-09\",\"12\":\"2024-05-10\",\"13\":\"2024-05-11\",\"14\":\"2024-05-12\",\"15\":\"2024-05-13\",\"16\":\"2024-05-14\",\"17\":\"2024-05-17\"}}'"
      ]
     },
     "execution_count": 109,
     "metadata": {},
     "output_type": "execute_result"
    }
   ],
   "source": [
    "d.to_json()"
   ]
  },
  {
   "cell_type": "code",
   "execution_count": 35,
   "id": "ee05381a-561a-457a-b395-4ad24c988e00",
   "metadata": {},
   "outputs": [],
   "source": [
    "r = \"\"\" json\\n[\\n  {\\n    \"start\": \"Day 1\", \\n    \"end\": \"Day 1\",\\n    \"event\": \" Hip fracture\"\\n  },\\n  {\\n    \"start\": \"Day 1\",\\n    \"end\": \"Day 1\",\\n    \" event\": \"Admitted trauma\"\\n  },\\n  {\\n    \"start\": \"Day 1\",\\n    \"end\": \"Day 1 \",\\n    \"event\": \"Surgery planned\"\\n  },\\n  {\\n    \"start\": \"Day 2\",\\n    \"end\": \"Day 2\",\\n    \"event\": \"Surgery performed\"\\n  }, \\n  {\\n    \"start\": \"Day 2\",\\n    \"end\": \"Day 2\",\\n    \"event\": \"Transfused blood\"\\n  },\\n  {\\n    \"start\": \"Day 2 \",\\n    \"end\": \"Day 2\",\\n    \"event\": \"HDU admission\"\\n  },\\n  {\\n    \"start\": \"Day 3\",\\n    \"end\": \"Day 3\",\\n    \"event\": \"Stable overnight\"\\n  },\\n  {\\n     \"start\": \"Day 4\",\\n    \"end\": \"Day 4\",\\n    \"event\": \"Ortho ward\"\\n  },\\n  {\\n    \"start\": \"Day 5\",\\n    \"end\": \"Day 5\",\\n    \"event\": \"Sepsis suspected\"\\n   },\\n  {\\n    \"start\": \"Day 5\",\\n    \"end\": \"Day 5\",\\n    \"event\": \"Pneumonia develops\"\\n  },\\n  {\\n    \"start\": \"Day 6\",\\n    \"end\": \"Day 6\",\\n    \" event\": \"Condition improves\"\\n  },\\n  {\\n    \"start\": \"Day 7\",\\n    \"end\": \"Day 7\",\\n    \"event\": \"Discharge planned\"\\n  },\\n  {\\n    \"start\": \"Day 8\",\\n    \"end\": \"Day  8\",\\n    \"event\": \"Discharged home\"\\n  }\\n]\\n\"\"\""
   ]
  },
  {
   "cell_type": "code",
   "execution_count": 41,
   "id": "f0183a9d-d103-4a19-9938-37258f4af690",
   "metadata": {},
   "outputs": [],
   "source": []
  },
  {
   "cell_type": "code",
   "execution_count": 56,
   "id": "8a99056a-b1ec-48dd-8baf-d97d56317a1b",
   "metadata": {},
   "outputs": [
    {
     "data": {
      "text/plain": [
       "[{'start': 'Day1', 'end': 'Day1', 'event': 'Fracturedrighthip'},\n",
       " {'start': 'Day1', 'end': 'Day1', 'event': 'Admittedtraumaward'},\n",
       " {'start': 'Day1', 'end': 'Day1', 'event': 'Surgeryplanned'},\n",
       " {'start': 'Day2', 'end': 'Day2', 'event': 'Initialassessment'},\n",
       " {'start': 'Day2', 'end': 'Day2', 'event': 'Surgeryconsent'},\n",
       " {'start': 'Day2', 'end': 'Day2', 'event': 'Anesthesiaclearance'},\n",
       " {'start': 'Day3', 'end': 'Day3', 'event': 'Hipfracturesurgery'},\n",
       " {'start': 'Day3', 'end': 'Day3', 'event': 'Bloodtransfusion'},\n",
       " {'start': 'Day3', 'end': 'Day3', 'event': 'HDUtransfer'},\n",
       " {'start': 'Day4', 'end': 'Day4', 'event': 'Stablevitalsigns'},\n",
       " {'start': 'Day4', 'end': 'Day4', 'event': 'Orthopaedicward'},\n",
       " {'start': 'Day5', 'end': 'Day5', 'event': 'Post-opassessment'},\n",
       " {'start': 'Day5', 'end': 'Day5', 'event': 'Physiotherapystart'},\n",
       " {'start': 'Day5', 'end': 'Day5', 'event': 'Geriatricteamreview'},\n",
       " {'start': 'Day5', 'end': 'Day5', 'event': 'Sepsissuspected'},\n",
       " {'start': 'Day6', 'end': 'Day6', 'event': 'Bloodculturepositive'},\n",
       " {'start': 'Day6', 'end': 'Day6', 'event': 'Pneumoniadiagnosed'},\n",
       " {'start': 'Day7', 'end': 'Day7', 'event': 'Dischargeplanning'},\n",
       " {'start': 'Day7', 'end': 'Day7', 'event': 'Homedischarge'}]"
      ]
     },
     "execution_count": 56,
     "metadata": {},
     "output_type": "execute_result"
    }
   ],
   "source": []
  },
  {
   "cell_type": "code",
   "execution_count": 43,
   "id": "02024e84-aff6-412a-b025-7c5059646f2c",
   "metadata": {},
   "outputs": [
    {
     "ename": "JSONDecodeError",
     "evalue": "Expecting value: line 1 column 1 (char 0)",
     "output_type": "error",
     "traceback": [
      "\u001b[0;31m---------------------------------------------------------------------------\u001b[0m",
      "\u001b[0;31mJSONDecodeError\u001b[0m                           Traceback (most recent call last)",
      "Cell \u001b[0;32mIn[43], line 3\u001b[0m\n\u001b[1;32m      1\u001b[0m \u001b[38;5;28;01mimport\u001b[39;00m \u001b[38;5;21;01mjson\u001b[39;00m\n\u001b[0;32m----> 3\u001b[0m \u001b[43mjson\u001b[49m\u001b[38;5;241;43m.\u001b[39;49m\u001b[43mloads\u001b[49m\u001b[43m(\u001b[49m\u001b[43mtemp\u001b[49m\u001b[43m)\u001b[49m\n",
      "File \u001b[0;32m/opt/conda/lib/python3.10/json/__init__.py:346\u001b[0m, in \u001b[0;36mloads\u001b[0;34m(s, cls, object_hook, parse_float, parse_int, parse_constant, object_pairs_hook, **kw)\u001b[0m\n\u001b[1;32m    341\u001b[0m     s \u001b[38;5;241m=\u001b[39m s\u001b[38;5;241m.\u001b[39mdecode(detect_encoding(s), \u001b[38;5;124m'\u001b[39m\u001b[38;5;124msurrogatepass\u001b[39m\u001b[38;5;124m'\u001b[39m)\n\u001b[1;32m    343\u001b[0m \u001b[38;5;28;01mif\u001b[39;00m (\u001b[38;5;28mcls\u001b[39m \u001b[38;5;129;01mis\u001b[39;00m \u001b[38;5;28;01mNone\u001b[39;00m \u001b[38;5;129;01mand\u001b[39;00m object_hook \u001b[38;5;129;01mis\u001b[39;00m \u001b[38;5;28;01mNone\u001b[39;00m \u001b[38;5;129;01mand\u001b[39;00m\n\u001b[1;32m    344\u001b[0m         parse_int \u001b[38;5;129;01mis\u001b[39;00m \u001b[38;5;28;01mNone\u001b[39;00m \u001b[38;5;129;01mand\u001b[39;00m parse_float \u001b[38;5;129;01mis\u001b[39;00m \u001b[38;5;28;01mNone\u001b[39;00m \u001b[38;5;129;01mand\u001b[39;00m\n\u001b[1;32m    345\u001b[0m         parse_constant \u001b[38;5;129;01mis\u001b[39;00m \u001b[38;5;28;01mNone\u001b[39;00m \u001b[38;5;129;01mand\u001b[39;00m object_pairs_hook \u001b[38;5;129;01mis\u001b[39;00m \u001b[38;5;28;01mNone\u001b[39;00m \u001b[38;5;129;01mand\u001b[39;00m \u001b[38;5;129;01mnot\u001b[39;00m kw):\n\u001b[0;32m--> 346\u001b[0m     \u001b[38;5;28;01mreturn\u001b[39;00m \u001b[43m_default_decoder\u001b[49m\u001b[38;5;241;43m.\u001b[39;49m\u001b[43mdecode\u001b[49m\u001b[43m(\u001b[49m\u001b[43ms\u001b[49m\u001b[43m)\u001b[49m\n\u001b[1;32m    347\u001b[0m \u001b[38;5;28;01mif\u001b[39;00m \u001b[38;5;28mcls\u001b[39m \u001b[38;5;129;01mis\u001b[39;00m \u001b[38;5;28;01mNone\u001b[39;00m:\n\u001b[1;32m    348\u001b[0m     \u001b[38;5;28mcls\u001b[39m \u001b[38;5;241m=\u001b[39m JSONDecoder\n",
      "File \u001b[0;32m/opt/conda/lib/python3.10/json/decoder.py:337\u001b[0m, in \u001b[0;36mJSONDecoder.decode\u001b[0;34m(self, s, _w)\u001b[0m\n\u001b[1;32m    332\u001b[0m \u001b[38;5;28;01mdef\u001b[39;00m \u001b[38;5;21mdecode\u001b[39m(\u001b[38;5;28mself\u001b[39m, s, _w\u001b[38;5;241m=\u001b[39mWHITESPACE\u001b[38;5;241m.\u001b[39mmatch):\n\u001b[1;32m    333\u001b[0m \u001b[38;5;250m    \u001b[39m\u001b[38;5;124;03m\"\"\"Return the Python representation of ``s`` (a ``str`` instance\u001b[39;00m\n\u001b[1;32m    334\u001b[0m \u001b[38;5;124;03m    containing a JSON document).\u001b[39;00m\n\u001b[1;32m    335\u001b[0m \n\u001b[1;32m    336\u001b[0m \u001b[38;5;124;03m    \"\"\"\u001b[39;00m\n\u001b[0;32m--> 337\u001b[0m     obj, end \u001b[38;5;241m=\u001b[39m \u001b[38;5;28;43mself\u001b[39;49m\u001b[38;5;241;43m.\u001b[39;49m\u001b[43mraw_decode\u001b[49m\u001b[43m(\u001b[49m\u001b[43ms\u001b[49m\u001b[43m,\u001b[49m\u001b[43m \u001b[49m\u001b[43midx\u001b[49m\u001b[38;5;241;43m=\u001b[39;49m\u001b[43m_w\u001b[49m\u001b[43m(\u001b[49m\u001b[43ms\u001b[49m\u001b[43m,\u001b[49m\u001b[43m \u001b[49m\u001b[38;5;241;43m0\u001b[39;49m\u001b[43m)\u001b[49m\u001b[38;5;241;43m.\u001b[39;49m\u001b[43mend\u001b[49m\u001b[43m(\u001b[49m\u001b[43m)\u001b[49m\u001b[43m)\u001b[49m\n\u001b[1;32m    338\u001b[0m     end \u001b[38;5;241m=\u001b[39m _w(s, end)\u001b[38;5;241m.\u001b[39mend()\n\u001b[1;32m    339\u001b[0m     \u001b[38;5;28;01mif\u001b[39;00m end \u001b[38;5;241m!=\u001b[39m \u001b[38;5;28mlen\u001b[39m(s):\n",
      "File \u001b[0;32m/opt/conda/lib/python3.10/json/decoder.py:355\u001b[0m, in \u001b[0;36mJSONDecoder.raw_decode\u001b[0;34m(self, s, idx)\u001b[0m\n\u001b[1;32m    353\u001b[0m     obj, end \u001b[38;5;241m=\u001b[39m \u001b[38;5;28mself\u001b[39m\u001b[38;5;241m.\u001b[39mscan_once(s, idx)\n\u001b[1;32m    354\u001b[0m \u001b[38;5;28;01mexcept\u001b[39;00m \u001b[38;5;167;01mStopIteration\u001b[39;00m \u001b[38;5;28;01mas\u001b[39;00m err:\n\u001b[0;32m--> 355\u001b[0m     \u001b[38;5;28;01mraise\u001b[39;00m JSONDecodeError(\u001b[38;5;124m\"\u001b[39m\u001b[38;5;124mExpecting value\u001b[39m\u001b[38;5;124m\"\u001b[39m, s, err\u001b[38;5;241m.\u001b[39mvalue) \u001b[38;5;28;01mfrom\u001b[39;00m \u001b[38;5;28;01mNone\u001b[39;00m\n\u001b[1;32m    356\u001b[0m \u001b[38;5;28;01mreturn\u001b[39;00m obj, end\n",
      "\u001b[0;31mJSONDecodeError\u001b[0m: Expecting value: line 1 column 1 (char 0)"
     ]
    }
   ],
   "source": [
    "import json\n",
    "\n",
    "json.loads(temp)"
   ]
  }
 ],
 "metadata": {
  "environment": {
   "kernel": "conda-base-py",
   "name": "workbench-notebooks.m121",
   "type": "gcloud",
   "uri": "us-docker.pkg.dev/deeplearning-platform-release/gcr.io/workbench-notebooks:m121"
  },
  "kernelspec": {
   "display_name": "Python 3 (ipykernel) (Local)",
   "language": "python",
   "name": "conda-base-py"
  },
  "language_info": {
   "codemirror_mode": {
    "name": "ipython",
    "version": 3
   },
   "file_extension": ".py",
   "mimetype": "text/x-python",
   "name": "python",
   "nbconvert_exporter": "python",
   "pygments_lexer": "ipython3",
   "version": "3.10.14"
  }
 },
 "nbformat": 4,
 "nbformat_minor": 5
}
